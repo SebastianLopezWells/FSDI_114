{
 "cells": [
  {
   "cell_type": "code",
   "execution_count": null,
   "id": "d12bf090",
   "metadata": {},
   "outputs": [],
   "source": [
    "for letter in \"Hello, world!\":\n",
    "    print(letter)"
   ]
  },
  {
   "cell_type": "markdown",
   "id": "d217766e",
   "metadata": {},
   "source": [
    "# Problem \n",
    "\n",
    "## Given two string as input determine if they are anagrams of each other given the following criteria:\n",
    "Two string are onlu anagramas of each other if all conditions bellow are met.\n",
    "1. They must be exactly the same length\n",
    "2. They must be exactly the same characters.\n",
    "\n",
    "Examples:\n",
    "cars and scar\n",
    "heart and earth\n",
    "etc\n",
    "\n",
    "#### Note: Once you've copied everything press SHIFT+ENTER"
   ]
  },
  {
   "cell_type": "code",
   "execution_count": 16,
   "id": "d09ed548",
   "metadata": {},
   "outputs": [
    {
     "name": "stdout",
     "output_type": "stream",
     "text": [
      "iamlordvoldemort\n",
      "tommarvoloriddle\n",
      "1732\n",
      "1732\n"
     ]
    },
    {
     "data": {
      "text/plain": [
       "'Is an anagram'"
      ]
     },
     "execution_count": 16,
     "metadata": {},
     "output_type": "execute_result"
    }
   ],
   "source": [
    "def anagram(string, string2):\n",
    "    cont=0\n",
    "    acum1 =0\n",
    "    acum2 =0\n",
    "    \n",
    "    \n",
    "    #We clean our string from blank spaces and make the sentence lowercase in order to get everything at some standar value with ord() function\n",
    "    strReplaced = string.lower().replace(\" \", \"\")\n",
    "    strReplaced2 = string2.lower().replace(\" \", \"\")\n",
    "    \n",
    "    #print(strReplaced) Demostration of what we are doing in the upper code (strReplaced)\n",
    "    #print(strReplaced2) Demostration of what we are doing in the upper code (strReplaced2)\n",
    "        \n",
    "    #If length is not the same then it returns \"Is not an anagram\"\n",
    "    if len(strReplaced)!= len(strReplaced2):\n",
    "        return \"Is not an Anagram 1\"\n",
    "    #If else we iterate letter in strReplaced and strReplaced2 in order to get an acumalitive value\n",
    "    else:\n",
    "        for letter in strReplaced:\n",
    "            acum1 = acum1 + ord(letter)\n",
    "        #print(acum1) Shows us the value that the acumulator throws us.\n",
    "        \n",
    "        for letter2 in strReplaced2:\n",
    "            acum2 = acum2 + ord(letter2) \n",
    "        #print(acum2) Shows us the value that the acumulator throws us.\n",
    "        \n",
    "        #If both of this values are the same then they are an anagram\n",
    "        if acum1 == acum2:\n",
    "            return \"Is an anagram\"\n",
    "        else:\n",
    "            return \"Is not an anagram 2\"\n",
    "    \n",
    "        \n",
    "#Calling the function\n",
    "anagram(\"I am lord voldemort\",\"Tom Marvolo Riddle\")\n",
    "\n"
   ]
  },
  {
   "cell_type": "code",
   "execution_count": 17,
   "id": "da37cdd9",
   "metadata": {},
   "outputs": [
    {
     "name": "stdout",
     "output_type": "stream",
     "text": [
      "race\n",
      "care\n",
      "411\n",
      "411\n"
     ]
    },
    {
     "data": {
      "text/plain": [
       "'Is an anagram'"
      ]
     },
     "execution_count": 17,
     "metadata": {},
     "output_type": "execute_result"
    }
   ],
   "source": [
    "anagram(\"race\",\"care\")"
   ]
  },
  {
   "cell_type": "code",
   "execution_count": 20,
   "id": "6514cdd3",
   "metadata": {},
   "outputs": [],
   "source": [
    "# defines function anagram_check: parameter ->(string1, string2)\n",
    "#     if the length of string is not equal to length o string2:\n",
    "#          return False\n",
    "#     else\n",
    "#          for letter in string 1\n",
    "#               acum += value of letter\n",
    "#          for letter in string 2\n",
    "#               acum2 += value of letter\n",
    "#          if acum = acum2 the is an anagram else in not an anagram."
   ]
  }
 ],
 "metadata": {
  "kernelspec": {
   "display_name": "Python 3 (ipykernel)",
   "language": "python",
   "name": "python3"
  },
  "language_info": {
   "codemirror_mode": {
    "name": "ipython",
    "version": 3
   },
   "file_extension": ".py",
   "mimetype": "text/x-python",
   "name": "python",
   "nbconvert_exporter": "python",
   "pygments_lexer": "ipython3",
   "version": "3.10.4"
  }
 },
 "nbformat": 4,
 "nbformat_minor": 5
}
