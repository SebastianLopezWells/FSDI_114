{
 "cells": [
  {
   "cell_type": "code",
   "execution_count": null,
   "id": "bc908291",
   "metadata": {},
   "outputs": [],
   "source": [
    "#Introductory implementation of a srack:\n",
    "#This implementations uses \"built-in\" data structures and methods to achive its goal.\n",
    "class Stack:\n",
    "    def __init__(self):\n",
    "        self.items = []\n",
    "        \n",
    "    def push(self, item):\n",
    "        self.items.append(item)\n",
    "    \n",
    "    def pop(self):\n",
    "        return self.item.pop()\n",
    "    \n",
    "    def is_empty(self):\n",
    "        return self.items == []\n",
    "    \n",
    "    def peek(self):\n",
    "        return self.items[len(self.items)-1]\n",
    "                           \n",
    "    def size(self):\n",
    "        return len(self.items)\n",
    "    \n",
    "\n",
    "                "
   ]
  },
  {
   "cell_type": "markdown",
   "id": "ca7e31a4",
   "metadata": {},
   "source": [
    "# Problem 2\n",
    "### Invert a string using our stack class\n",
    "Using the stack class above, create a function called \"reversed_str\" that takes a string as parameter and returns it in invented order.\n",
    "\n",
    "\n",
    "...\n",
    "Examples:\n",
    "reverse_str(\"Rafael\") == \"leafaR\"\n",
    "..."
   ]
  },
  {
   "cell_type": "code",
   "execution_count": 2,
   "id": "87cd8dce",
   "metadata": {},
   "outputs": [
    {
     "name": "stdout",
     "output_type": "stream",
     "text": [
      "aloippoT ynoT\n"
     ]
    }
   ],
   "source": [
    "def reverse_check(word):\n",
    "    stack = Stack()\n",
    "    reverseWord = \"\"\n",
    "    for letter in word:\n",
    "        stack.push(letter)\n",
    "        \n",
    "    for letter in word:\n",
    "        reverseWord += stack.pop()\n",
    "        \n",
    "    return reverseWord\n",
    "\n",
    "print(reverse_check(\"Tony Toppiola\"))"
   ]
  },
  {
   "cell_type": "code",
   "execution_count": 3,
   "id": "c9e2f33a",
   "metadata": {},
   "outputs": [
    {
     "name": "stdout",
     "output_type": "stream",
     "text": [
      "desrever ton m'I tsael tA\n"
     ]
    }
   ],
   "source": [
    "print(reverse_check(\"At least I'm not reversed\"))"
   ]
  },
  {
   "cell_type": "code",
   "execution_count": 7,
   "id": "df303ad8",
   "metadata": {},
   "outputs": [],
   "source": [
    "# Implementation of a stack class from scratch\n",
    "\n",
    "class Node:\n",
    "    def __init__(self, data):\n",
    "        self.data = data\n",
    "        self.above = None"
   ]
  },
  {
   "cell_type": "code",
   "execution_count": 8,
   "id": "2610398d",
   "metadata": {},
   "outputs": [],
   "source": [
    "class Stack:\n",
    "    def __init__(self):\n",
    "        self.base = None\n",
    "        \n",
    "    def is_empty(self):\n",
    "        return self.base == None\n",
    "        \n",
    "    def push(self, item):\n",
    "        if not self.base:\n",
    "            self.base = Node(item)\n",
    "        else:\n",
    "            current = self.base\n",
    "            while current.above:   # same as \"while current.above != None\"\n",
    "                current = current.above\n",
    "            current.above = Node(item)\n",
    "            \n",
    "    def pop(self):\n",
    "        if self.base:\n",
    "            prev = None\n",
    "            current = self.base\n",
    "            while current.above:\n",
    "                prev = current\n",
    "                current = current.above\n",
    "            if not prev:\n",
    "                self.base = None\n",
    "                return current.data\n",
    "            prev.above = None\n",
    "            return current.data\n",
    "        raise IndexError(\"pop from empty stack\")\n",
    "        \n",
    "    def peek(self):\n",
    "        current = self.base\n",
    "        while current:\n",
    "            current = current.above\n",
    "        if not current:\n",
    "            raise ValueError(\"There is no base.\")\n",
    "        return current.data\n",
    "    \n",
    "    def size(self):\n",
    "        counter = 0\n",
    "        current = self.base\n",
    "        while current:\n",
    "            counter += 1\n",
    "            current = current.above\n",
    "        return counter\n",
    "    \n",
    "    def __str__(self):\n",
    "        out_str = \"[\"\n",
    "        if self.base:\n",
    "            current = self.base\n",
    "            out_str += \"%s\" % current.data\n",
    "            while current:     # while current is not None\n",
    "                current = current.above\n",
    "                if current:\n",
    "                    out_str += \", %s\" % current.data\n",
    "        out_str += \"]\"\n",
    "        return out_str\n",
    "    \n",
    "        \n",
    "def stack_helper(mylist=[1, 2, 3, 4, 5]):\n",
    "    stack = Stack()\n",
    "    for value in mylist:\n",
    "        stack.push(value)\n",
    "        print(\"Current stack: \")\n",
    "        print(stack)\n",
    "        \n",
    "    print(\"Is empty: \", stack.is_empty())\n",
    "    print(\"Size: \", stack.size())\n",
    "    "
   ]
  },
  {
   "cell_type": "code",
   "execution_count": 9,
   "id": "cb5053be",
   "metadata": {},
   "outputs": [
    {
     "name": "stdout",
     "output_type": "stream",
     "text": [
      "Current stack: \n",
      "[1]\n",
      "Current stack: \n",
      "[1, 2]\n",
      "Current stack: \n",
      "[1, 2, 3]\n",
      "Current stack: \n",
      "[1, 2, 3, 4]\n",
      "Current stack: \n",
      "[1, 2, 3, 4, 5]\n",
      "Is empty:  False\n",
      "Size:  5\n"
     ]
    }
   ],
   "source": [
    "stack_helper()"
   ]
  },
  {
   "cell_type": "code",
   "execution_count": null,
   "id": "c82cbe45",
   "metadata": {},
   "outputs": [],
   "source": [
    "# Introductory implementation of a queue:\n",
    "# This implementation uses \"built-in\" data structures and methods to achieve its goal.\n",
    "\n",
    "class Queue:\n",
    "    def __init__(self):\n",
    "        self.items = []\n",
    "        \n",
    "    # these are essential:\n",
    "    def enqueue(self, item):\n",
    "        self.items.insert(0, item)\n",
    "        \n",
    "    def dequeue(self):\n",
    "        return self.items.pop()\n",
    "    \n",
    "    # these are nice to have\n",
    "    def is_empty(self):\n",
    "        return self.item == []\n",
    "    \n",
    "    def size(self):\n",
    "        return len(self.items)"
   ]
  }
 ],
 "metadata": {
  "kernelspec": {
   "display_name": "Python 3 (ipykernel)",
   "language": "python",
   "name": "python3"
  },
  "language_info": {
   "codemirror_mode": {
    "name": "ipython",
    "version": 3
   },
   "file_extension": ".py",
   "mimetype": "text/x-python",
   "name": "python",
   "nbconvert_exporter": "python",
   "pygments_lexer": "ipython3",
   "version": "3.10.4"
  }
 },
 "nbformat": 4,
 "nbformat_minor": 5
}
